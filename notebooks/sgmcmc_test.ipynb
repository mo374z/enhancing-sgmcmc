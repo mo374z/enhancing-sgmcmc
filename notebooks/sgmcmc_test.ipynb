{
 "cells": [
  {
   "cell_type": "markdown",
   "metadata": {},
   "source": [
    "# SG-MCMC Sampling - Hands-on\n",
    "This notebook implements sgmcmc samplers to test them on simple landscapes. So we are able to get a feeling for their differences and behavior."
   ]
  },
  {
   "cell_type": "code",
   "execution_count": 1,
   "metadata": {},
   "outputs": [],
   "source": [
    "import jax.numpy as jnp\n",
    "import os\n",
    "\n",
    "from enhancing_sgmcmc.samplers.sghmc import SGHMC\n",
    "from enhancing_sgmcmc.utils import (\n",
    "    gaussian_mixture_logprob,\n",
    "    generate_gmm_data,\n",
    "    gmm_grad_estimator,\n",
    "    run_sequential_sghmc,\n",
    "    plot_gmm_sampling,\n",
    ")"
   ]
  },
  {
   "cell_type": "code",
   "execution_count": 2,
   "metadata": {},
   "outputs": [],
   "source": [
    "os.chdir(\"..\")"
   ]
  },
  {
   "cell_type": "code",
   "execution_count": 3,
   "metadata": {},
   "outputs": [],
   "source": [
    "%load_ext autoreload\n",
    "%autoreload 2"
   ]
  },
  {
   "cell_type": "markdown",
   "metadata": {},
   "source": [
    "### Setup"
   ]
  },
  {
   "cell_type": "code",
   "execution_count": 4,
   "metadata": {},
   "outputs": [],
   "source": [
    "seed = 567"
   ]
  },
  {
   "cell_type": "code",
   "execution_count": 5,
   "metadata": {},
   "outputs": [],
   "source": [
    "means = jnp.array([[1, 3]])\n",
    "covs = jnp.array(\n",
    "    [\n",
    "        [[1, 0], [0, 1]],\n",
    "    ]\n",
    ")\n",
    "weights = jnp.array([1])\n",
    "data_samples = 1000"
   ]
  },
  {
   "cell_type": "code",
   "execution_count": 6,
   "metadata": {},
   "outputs": [],
   "source": [
    "sampler = SGHMC(gmm_grad_estimator)\n",
    "init_position = jnp.array([0.0, 0.0])\n",
    "\n",
    "samples = generate_gmm_data(\n",
    "    seed=seed, means=means, covs=covs, weights=weights, n_samples=data_samples\n",
    ")"
   ]
  },
  {
   "cell_type": "code",
   "execution_count": 7,
   "metadata": {},
   "outputs": [],
   "source": [
    "init_m = jnp.array([10, 0.1])\n",
    "step_size = 0.05\n",
    "mdecay = 0.05\n",
    "burnin = 100\n",
    "n_batches = 5\n",
    "mcmc_samples = 1000"
   ]
  },
  {
   "cell_type": "code",
   "execution_count": null,
   "metadata": {},
   "outputs": [],
   "source": [
    "trajectory = run_sequential_sghmc(\n",
    "    sampler=sampler,\n",
    "    data=samples,\n",
    "    init_position=init_position,\n",
    "    init_m=init_m,\n",
    "    batch_size=len(samples) // n_batches,\n",
    "    n_samples=mcmc_samples,\n",
    "    step_size=step_size,\n",
    "    mdecay=mdecay,\n",
    "    num_integration_steps=1,\n",
    "    mresampling=0.01,\n",
    "    seed=seed,\n",
    ")\n",
    "\n",
    "fig, ax = plot_gmm_sampling(\n",
    "    trajectory=trajectory,\n",
    "    samples=samples,\n",
    "    means=means,\n",
    "    covs=covs,\n",
    "    weights=weights,\n",
    "    gaussian_mixture_logprob=gaussian_mixture_logprob,\n",
    "    title=\"SGHMC Sampling\",\n",
    "    burnin=burnin,\n",
    "    figsize=(10, 5),\n",
    ")"
   ]
  }
 ],
 "metadata": {
  "kernelspec": {
   "display_name": ".venv",
   "language": "python",
   "name": "python3"
  },
  "language_info": {
   "codemirror_mode": {
    "name": "ipython",
    "version": 3
   },
   "file_extension": ".py",
   "mimetype": "text/x-python",
   "name": "python",
   "nbconvert_exporter": "python",
   "pygments_lexer": "ipython3",
   "version": "3.12.5"
  }
 },
 "nbformat": 4,
 "nbformat_minor": 2
}
