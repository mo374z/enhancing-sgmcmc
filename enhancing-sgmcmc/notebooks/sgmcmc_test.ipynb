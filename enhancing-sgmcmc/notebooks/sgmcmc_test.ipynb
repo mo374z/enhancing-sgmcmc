{
 "cells": [
  {
   "cell_type": "markdown",
   "metadata": {},
   "source": [
    "# SG-MCMC Sampling - Hands-on\n",
    "This notebook implements sgmcmc samplers to test them on simple landscapes. So we are able to get a feeling for their differences and behavior."
   ]
  },
  {
   "cell_type": "code",
   "execution_count": null,
   "metadata": {
    "vscode": {
     "languageId": "plaintext"
    }
   },
   "outputs": [],
   "source": []
  }
 ],
 "metadata": {
  "language_info": {
   "name": "python"
  }
 },
 "nbformat": 4,
 "nbformat_minor": 2
}
