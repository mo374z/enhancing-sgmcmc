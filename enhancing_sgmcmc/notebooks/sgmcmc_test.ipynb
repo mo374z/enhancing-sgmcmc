{
 "cells": [
  {
   "cell_type": "markdown",
   "metadata": {},
   "source": [
    "# SG-MCMC Sampling - Hands-on\n",
    "This notebook implements sgmcmc samplers to test them on simple landscapes. So we are able to get a feeling for their differences and behavior."
   ]
  },
  {
   "cell_type": "code",
   "execution_count": 1,
   "metadata": {},
   "outputs": [],
   "source": [
    "import jax\n",
    "import jax.numpy as jnp\n",
    "import tqdm\n",
    "import os\n",
    "\n",
    "from enhancing_sgmcmc.samplers.sghmc import SGHMC\n",
    "from enhancing_sgmcmc.utils import (\n",
    "    gaussian_mixture_logprob,\n",
    "    plot_gaussian_mixture_sampling,\n",
    "    run_sghmc_experiment,\n",
    ")"
   ]
  },
  {
   "cell_type": "code",
   "execution_count": 2,
   "metadata": {},
   "outputs": [],
   "source": [
    "os.chdir(\"../..\")"
   ]
  },
  {
   "cell_type": "code",
   "execution_count": 3,
   "metadata": {},
   "outputs": [],
   "source": [
    "%load_ext autoreload\n",
    "%autoreload 2"
   ]
  },
  {
   "cell_type": "markdown",
   "metadata": {},
   "source": [
    "### Setup"
   ]
  },
  {
   "cell_type": "code",
   "execution_count": 19,
   "metadata": {},
   "outputs": [],
   "source": [
    "means = jnp.array([[-5.0, -5.0], [5.0, 5.0], [5.0, -5.0], [-5.0, 5.0]])\n",
    "covs = jnp.array(\n",
    "    [\n",
    "        [[3, 0.0], [0.0, 2]],\n",
    "        [[4, 0.0], [0.0, 3]],\n",
    "        [[1.0, 0.0], [0.0, 3]],\n",
    "        [[1, 0.0], [0.0, 5]],\n",
    "    ]\n",
    ")\n",
    "weights = jnp.array([0.25, 0.25, 0.25, 0.25])"
   ]
  },
  {
   "cell_type": "code",
   "execution_count": 15,
   "metadata": {},
   "outputs": [],
   "source": [
    "def grad_estimator(position, x=None, y=None):\n",
    "    \"\"\"Gradient estimator for Gaussian mixture model.\"\"\"\n",
    "    # In this example, x and y are not used as we're directly sampling from a distribution\n",
    "    logprob = gaussian_mixture_logprob(position, means, covs, weights)\n",
    "    return logprob, jax.grad(gaussian_mixture_logprob)(position, means, covs, weights)"
   ]
  },
  {
   "cell_type": "code",
   "execution_count": 16,
   "metadata": {},
   "outputs": [],
   "source": [
    "sampler = SGHMC(grad_estimator)\n",
    "init_position = jnp.array([0.0, 0.0])  # Start at the origin"
   ]
  },
  {
   "cell_type": "code",
   "execution_count": null,
   "metadata": {},
   "outputs": [
    {
     "name": "stderr",
     "output_type": "stream",
     "text": [
      "  0%|          | 0/3 [00:00<?, ?it/s]"
     ]
    }
   ],
   "source": [
    "# Example usage\n",
    "experiment_configs = [\n",
    "    {\n",
    "        \"name\": \"default\",\n",
    "        \"step_size\": 0.05,\n",
    "        \"mdecay\": 0.05,\n",
    "        \"burnin\": 100,\n",
    "    },\n",
    "    {\n",
    "        \"name\": \"hogh_mdecay\",\n",
    "        \"step_size\": 0.05,\n",
    "        \"mdecay\": 0.2,\n",
    "        \"burnin\": 100,\n",
    "    },\n",
    "    {\n",
    "        \"name\": \"low_step_size\",\n",
    "        \"step_size\": 0.01,\n",
    "        \"mdecay\": 0.05,\n",
    "        \"burnin\": 100,\n",
    "    },\n",
    "]\n",
    "\n",
    "# Run experiments\n",
    "for config in tqdm.tqdm(experiment_configs):\n",
    "    trajectory = run_sghmc_experiment(\n",
    "        sampler=sampler,\n",
    "        init_position=init_position,\n",
    "        num_samples=300,\n",
    "        step_size=config[\"step_size\"],\n",
    "        mdecay=config[\"mdecay\"],\n",
    "        num_integration_steps=1,\n",
    "        mresampling=0.01,\n",
    "    )\n",
    "\n",
    "    fig, axes = plot_gaussian_mixture_sampling(\n",
    "        trajectory=trajectory,\n",
    "        means=means,\n",
    "        covs=covs,\n",
    "        weights=weights,\n",
    "        gaussian_mixture_logprob=gaussian_mixture_logprob,\n",
    "        title=f\"SGHMC: {config['name']}\",\n",
    "        burnin=config[\"burnin\"],\n",
    "        figsize=(8, 4),\n",
    "    )\n",
    "\n",
    "    fig.savefig(\n",
    "        f\"results/sghmc_{config['name'].replace(' ', '_')}.png\", dpi=300, bbox_inches=\"tight\"\n",
    "    )"
   ]
  }
 ],
 "metadata": {
  "kernelspec": {
   "display_name": ".venv",
   "language": "python",
   "name": "python3"
  },
  "language_info": {
   "codemirror_mode": {
    "name": "ipython",
    "version": 3
   },
   "file_extension": ".py",
   "mimetype": "text/x-python",
   "name": "python",
   "nbconvert_exporter": "python",
   "pygments_lexer": "ipython3",
   "version": "3.12.5"
  }
 },
 "nbformat": 4,
 "nbformat_minor": 2
}
